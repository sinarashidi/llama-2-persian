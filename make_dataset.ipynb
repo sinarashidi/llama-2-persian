{
 "cells": [
  {
   "cell_type": "code",
   "execution_count": 3,
   "metadata": {},
   "outputs": [
    {
     "name": "stderr",
     "output_type": "stream",
     "text": [
      "Map: 100%|██████████| 93921/93921 [00:01<00:00, 59701.55 examples/s]\n"
     ]
    }
   ],
   "source": [
    "from datasets import load_dataset, Dataset\n",
    "import re\n",
    "\n",
    "# Load the dataset\n",
    "dataset = load_dataset('sinarashidi/temp')\n",
    "\n",
    "# Shuffle the dataset and slice it\n",
    "# dataset = dataset['train'].shuffle(seed=42).select(range(len(dataset)))\n",
    "\n",
    "# Define a function to transform the data\n",
    "def transform_conversation(example):\n",
    "    conversation_text = example['text']\n",
    "    segments = conversation_text.split('###')\n",
    "\n",
    "    reformatted_segments = []\n",
    "\n",
    "    # Iterate over pairs of segments\n",
    "    for i in range(1, len(segments) - 1, 2):\n",
    "        human_text = segments[i].strip().replace('Human:', '').strip()\n",
    "\n",
    "        # Check if there is a corresponding assistant segment before processing\n",
    "        if i + 1 < len(segments):\n",
    "            assistant_text = segments[i+1].strip().replace('Assistant:', '').strip()\n",
    "\n",
    "            # Apply the new template\n",
    "            reformatted_segments.append(f'<s>[INST] {human_text} [/INST] {assistant_text} </s>')\n",
    "        else:\n",
    "            # Handle the case where there is no corresponding assistant segment\n",
    "            reformatted_segments.append(f'<s>[INST] {human_text} [/INST] </s>')\n",
    "\n",
    "    return {'text': '\\\\\\n'.join(reformatted_segments)}\n",
    "\n",
    "# Apply the transformation\n",
    "transformed_dataset = dataset.map(transform_conversation)\n"
   ]
  },
  {
   "cell_type": "code",
   "execution_count": 4,
   "metadata": {},
   "outputs": [
    {
     "name": "stderr",
     "output_type": "stream",
     "text": [
      "Creating parquet from Arrow format: 100%|██████████| 94/94 [00:00<00:00, 1229.82ba/s]\n",
      "Pushing dataset shards to the dataset hub: 100%|██████████| 1/1 [00:06<00:00,  6.60s/it]\n",
      "Deleting unused files from dataset repository: 100%|██████████| 1/1 [00:00<00:00,  3.60it/s]\n",
      "Downloading metadata: 100%|██████████| 433/433 [00:00<00:00, 5.00MB/s]\n"
     ]
    }
   ],
   "source": [
    "# transformed_dataset.save_to_disk('./')\n",
    "transformed_dataset.push_to_hub(\"sinarashidi/sentiment-claim-stance\")"
   ]
  },
  {
   "cell_type": "code",
   "execution_count": null,
   "metadata": {},
   "outputs": [],
   "source": [
    "import json\n",
    "\n",
    "output = []\n",
    "with open('./data/sentiment_claim_stance.jsonl', 'r') as f:\n",
    "    for line in f:\n",
    "        data = json.loads(line)\n",
    "        output.append(data)\n",
    "\n",
    "len(output)"
   ]
  },
  {
   "cell_type": "code",
   "execution_count": null,
   "metadata": {},
   "outputs": [],
   "source": [
    "out1 = []\n",
    "out2 = []\n",
    "out3 = []\n",
    "\n",
    "for i in range(5571):\n",
    "    data = output[i]\n",
    "    d = data['text']\n",
    "    modified = d.replace(\"Perform stance detection on the following sentence and its reply sentence:\", \"Stance Detection:\")\n",
    "    data['text'] = modified\n",
    "    out1.append(data)\n",
    "\n",
    "for i in range(5571, 9440):\n",
    "    data = output[i]\n",
    "    d = data['text']\n",
    "    modified = d.replace(\"Perform claim detection on the following sentence:\", \"Claim Detection:\")\n",
    "    data['text'] = modified\n",
    "    out2.append(data)\n",
    "\n",
    "for i in range(9440, 93921):\n",
    "    data = output[i]\n",
    "    d = data['text']\n",
    "    modified = d.replace(\"Detect the sentiment of this comment.\", \"Sentiment Detection:\")\n",
    "    data['text'] = modified\n",
    "    out3.append(data)"
   ]
  },
  {
   "cell_type": "code",
   "execution_count": null,
   "metadata": {},
   "outputs": [],
   "source": [
    "type(out1[1])"
   ]
  },
  {
   "cell_type": "code",
   "execution_count": null,
   "metadata": {},
   "outputs": [],
   "source": [
    "with open('./output.jsonl', 'w') as f:\n",
    "    for d in out1:\n",
    "        json.dump(d, f, ensure_ascii=False)\n",
    "        f.write('\\n')\n",
    "    for d in out2:\n",
    "        json.dump(d, f, ensure_ascii=False)\n",
    "        f.write('\\n')\n",
    "    for d in out3:\n",
    "        json.dump(d, f, ensure_ascii=False)\n",
    "        f.write('\\n')"
   ]
  },
  {
   "cell_type": "markdown",
   "metadata": {},
   "source": []
  },
  {
   "cell_type": "code",
   "execution_count": null,
   "metadata": {},
   "outputs": [],
   "source": []
  }
 ],
 "metadata": {
  "kernelspec": {
   "display_name": ".venv",
   "language": "python",
   "name": "python3"
  },
  "language_info": {
   "codemirror_mode": {
    "name": "ipython",
    "version": 3
   },
   "file_extension": ".py",
   "mimetype": "text/x-python",
   "name": "python",
   "nbconvert_exporter": "python",
   "pygments_lexer": "ipython3",
   "version": "3.10.12"
  },
  "orig_nbformat": 4
 },
 "nbformat": 4,
 "nbformat_minor": 2
}
