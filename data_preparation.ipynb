{
 "cells": [
  {
   "cell_type": "code",
   "execution_count": 13,
   "metadata": {},
   "outputs": [],
   "source": [
    "import json\n",
    "\n",
    "with open('./data/alpaca_data_cleaned.json', 'r') as f:\n",
    "    data = json.load(f)\n"
   ]
  },
  {
   "cell_type": "code",
   "execution_count": 17,
   "metadata": {},
   "outputs": [
    {
     "data": {
      "text/plain": [
       "32603"
      ]
     },
     "execution_count": 17,
     "metadata": {},
     "output_type": "execute_result"
    }
   ],
   "source": [
    "data = [x for x in data if x['input'] == '']\n",
    "len(data)"
   ]
  },
  {
   "cell_type": "code",
   "execution_count": 21,
   "metadata": {},
   "outputs": [],
   "source": [
    "d1 = data[:5000]\n",
    "d2 = data[5000:10000]\n",
    "d3 = data[10000:15000]\n",
    "d4 = data[15000:20000]\n",
    "d5 = data[20000:25000]\n",
    "d6 = data[25000:]"
   ]
  },
  {
   "cell_type": "code",
   "execution_count": 28,
   "metadata": {},
   "outputs": [],
   "source": [
    "with open('output6.txt', 'w') as f:\n",
    "    for d in d6:\n",
    "        if d['input'] == '':\n",
    "            f.write(d['instruction'])\n",
    "            f.write('\\n\\n')\n",
    "            f.write(d['output'])\n",
    "            f.write('\\n---\\n')\n"
   ]
  },
  {
   "cell_type": "code",
   "execution_count": 34,
   "metadata": {},
   "outputs": [],
   "source": [
    "import docx\n",
    "\n",
    "def read_docx(file_path):\n",
    "    doc = docx.Document(file_path)\n",
    "    full_text = []\n",
    "    for para in doc.paragraphs:\n",
    "        full_text.append(para.text)\n",
    "    return '\\n'.join(full_text)\n",
    "\n",
    "def save_to_txt(file_path, content):\n",
    "    with open(file_path, 'w', encoding='utf-8') as txt_file:\n",
    "        txt_file.write(content)\n",
    "\n",
    "# Example usage:\n",
    "input_docx_path = 'output6 (1).docx'\n",
    "output_txt_path = 'out6.txt'\n",
    "\n",
    "persian_text = read_docx(input_docx_path)\n",
    "save_to_txt(output_txt_path, persian_text)\n"
   ]
  },
  {
   "cell_type": "code",
   "execution_count": 16,
   "metadata": {},
   "outputs": [],
   "source": [
    "import json\n",
    "\n",
    "\n",
    "output = []\n",
    "for i in range(6):\n",
    "    file = f'./data/out{i+1}.txt'\n",
    "    with open(file, 'r') as f:\n",
    "        data = f.read()\n",
    "\n",
    "    data = data.split('---')\n",
    "    for d in data:\n",
    "        tmp = d.split('\\n\\n')\n",
    "        question = tmp[0]\n",
    "        answer = ''.join(tmp[1:])\n",
    "        output.append({'text': f'### Human: {question} ### Assistant: {answer}'})\n",
    "\n",
    "with open('data.jsonl', 'w') as f:\n",
    "    for o in output:\n",
    "        json.dump(o, f, ensure_ascii=False)\n",
    "        f.write('\\n')"
   ]
  },
  {
   "cell_type": "code",
   "execution_count": 17,
   "metadata": {},
   "outputs": [
    {
     "name": "stderr",
     "output_type": "stream",
     "text": [
      "/home/sina/projects/agp/llama2-finetune/.venv/lib/python3.10/site-packages/tqdm/auto.py:21: TqdmWarning: IProgress not found. Please update jupyter and ipywidgets. See https://ipywidgets.readthedocs.io/en/stable/user_install.html\n",
      "  from .autonotebook import tqdm as notebook_tqdm\n",
      "HF google storage unreachable. Downloading and preparing it from source\n",
      "Downloading data: 100%|██████████| 49.6M/49.6M [00:35<00:00, 1.39MB/s]\n",
      "Downloading data files: 100%|██████████| 1/1 [00:35<00:00, 35.84s/it]\n",
      "Extracting data files: 100%|██████████| 1/1 [00:00<00:00, 58.84it/s]\n",
      "Generating train split: 35117 examples [00:00, 78714.00 examples/s] \n",
      "Map: 100%|██████████| 35117/35117 [00:03<00:00, 11452.02 examples/s]\n"
     ]
    }
   ],
   "source": [
    "from datasets import load_dataset\n",
    "import re\n",
    "\n",
    "# Load the dataset\n",
    "dataset = load_dataset('sinarashidi/alpaca-persian')\n",
    "\n",
    "# Shuffle the dataset and slice it\n",
    "# dataset = dataset['train'].shuffle(seed=42).select(range(1000))\n",
    "\n",
    "# Define a function to transform the data\n",
    "def transform_conversation(example):\n",
    "    conversation_text = example['text']\n",
    "    segments = conversation_text.split('###')\n",
    "\n",
    "    reformatted_segments = []\n",
    "\n",
    "    # Iterate over pairs of segments\n",
    "    for i in range(1, len(segments) - 1, 2):\n",
    "        human_text = segments[i].strip().replace('Human:', '').strip()\n",
    "\n",
    "        # Check if there is a corresponding assistant segment before processing\n",
    "        if i + 1 < len(segments):\n",
    "            assistant_text = segments[i+1].strip().replace('Assistant:', '').strip()\n",
    "\n",
    "            # Apply the new template\n",
    "            reformatted_segments.append(f'<s>[INST] {human_text} [/INST] {assistant_text} </s>')\n",
    "        else:\n",
    "            # Handle the case where there is no corresponding assistant segment\n",
    "            reformatted_segments.append(f'<s>[INST] {human_text} [/INST] </s>')\n",
    "\n",
    "    return {'text': '\\\\\\n'.join(reformatted_segments)}\n",
    "\n",
    "\n",
    "# Apply the transformation\n",
    "transformed_dataset = dataset.map(transform_conversation)\n"
   ]
  },
  {
   "cell_type": "code",
   "execution_count": 20,
   "metadata": {},
   "outputs": [
    {
     "name": "stderr",
     "output_type": "stream",
     "text": [
      "Creating parquet from Arrow format: 100%|██████████| 36/36 [00:00<00:00, 101.51ba/s]\n",
      "Pushing dataset shards to the dataset hub: 100%|██████████| 1/1 [00:01<00:00,  1.62s/it]\n"
     ]
    }
   ],
   "source": [
    "transformed_dataset.push_to_hub(\"sinarashidi/alpaca-persian-llama2\")"
   ]
  },
  {
   "cell_type": "code",
   "execution_count": 28,
   "metadata": {},
   "outputs": [
    {
     "data": {
      "text/plain": [
       "[1, 3, 6, 10, 15]"
      ]
     },
     "execution_count": 28,
     "metadata": {},
     "output_type": "execute_result"
    }
   ],
   "source": [
    "import itertools \n",
    "\n",
    "\n",
    "itertools.accumulate()"
   ]
  },
  {
   "cell_type": "code",
   "execution_count": null,
   "metadata": {},
   "outputs": [],
   "source": []
  }
 ],
 "metadata": {
  "kernelspec": {
   "display_name": ".venv",
   "language": "python",
   "name": "python3"
  },
  "language_info": {
   "codemirror_mode": {
    "name": "ipython",
    "version": 3
   },
   "file_extension": ".py",
   "mimetype": "text/x-python",
   "name": "python",
   "nbconvert_exporter": "python",
   "pygments_lexer": "ipython3",
   "version": "3.10.12"
  },
  "orig_nbformat": 4
 },
 "nbformat": 4,
 "nbformat_minor": 2
}
